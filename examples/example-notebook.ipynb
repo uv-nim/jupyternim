{
 "cells": [
  {
   "cell_type": "markdown",
   "metadata": {},
   "source": [
    "Nim examples, and notes on this kernel\n",
    "======================================"
   ]
  },
  {
   "cell_type": "markdown",
   "metadata": {},
   "source": [
    "Hello World\n",
    "-----------"
   ]
  },
  {
   "cell_type": "code",
   "execution_count": 2,
   "metadata": {},
   "outputs": [
    {
     "output_type": "execute_result",
     "data": {
      "text/plain": "hello world!\n"
     },
     "metadata": {},
     "execution_count": 2
    }
   ],
   "source": [
    "echo \"hello world!\""
   ]
  },
  {
   "cell_type": "markdown",
   "metadata": {},
   "source": [
    "Notes on globals level\n",
    "--------------------------------------------\n",
    "For now, every block is a chunk, and the file compiled is created by appending all chunks up to the running cell.  \n",
    "This has the side effect of re-running top level instructions.  \n",
    "As a convenience, the output before the last run cell is discarded, but other instructions are still run, so eg. sideeffects like creating files etc might be run multiple times.\n",
    "\n",
    "Some random code\n",
    "--------------------\n",
    "\n",
    "Lets define a var `x`."
   ]
  },
  {
   "cell_type": "code",
   "execution_count": 6,
   "metadata": {},
   "outputs": [
    {
     "output_type": "execute_result",
     "data": {
      "text/plain": ""
     },
     "metadata": {},
     "execution_count": 6
    }
   ],
   "source": [
    "var x = 12.3"
   ]
  },
  {
   "cell_type": "code",
   "execution_count": 9,
   "metadata": {},
   "outputs": [
    {
     "output_type": "execute_result",
     "data": {
      "text/plain": "12.3\n"
     },
     "metadata": {},
     "execution_count": 9
    }
   ],
   "source": [
    "echo x"
   ]
  },
  {
   "cell_type": "code",
   "execution_count": null,
   "metadata": {},
   "outputs": [],
   "source": [
    "x = nil"
   ]
  },
  {
   "cell_type": "markdown",
   "metadata": {},
   "source": [
    "Nice, works."
   ]
  },
  {
   "cell_type": "markdown",
   "metadata": {},
   "source": [
    "Import\n",
    "------------\n",
    "If the host system as the correct package installed, you can use `import` like normal.  "
   ]
  },
  {
   "cell_type": "code",
   "execution_count": 11,
   "metadata": {},
   "outputs": [
    {
     "output_type": "execute_result",
     "data": {
      "text/plain": "25.0\n"
     },
     "metadata": {},
     "execution_count": 11
    }
   ],
   "source": [
    "import math\n",
    "let x = 5.0\n",
    "echo x.pow(2.0)"
   ]
  },
  {
   "cell_type": "code",
   "execution_count": 5,
   "metadata": {},
   "outputs": [
    {
     "data": {
      "text/plain": [
       "@[('h', '!'), ('e', 'k'), ('l', 'o'), ('l', 'o'), ('o', 'b'), (' ', 'e'), ('n', 't'), ('o', 'o'), ('t', 'n'), ('e', ' '), ('b', 'o'), ('o', 'l'), ('o', 'l'), ('k', 'e'), ('!', 'h')]\n"
      ]
     },
     "execution_count": 5,
     "metadata": {},
     "output_type": "execute_result"
    }
   ],
   "source": [
    "import sequtils\n",
    "var s : seq[char] = toSeq(\"hello notebook!\".items)\n",
    "var z : seq[char] = toSeq(\"!koobeton olleh\".items)\n",
    "echo zip(s,z)"
   ]
  },
  {
   "cell_type": "markdown",
   "metadata": {},
   "source": [
    "Note that compilation happens in a temp folder, but everything should work as normal."
   ]
  },
  {
   "cell_type": "code",
   "execution_count": 12,
   "metadata": {},
   "outputs": [
    {
     "output_type": "error",
     "ename": "Compilation Error",
     "evalue": "redefinition of &#39;x&#39;; previous declaration here: /home/ugovaretto/.jupyternim/n6129aaeen47ccn4c10nb7b1n7cb48c8e45cfcodecells.nim(7, 5)",
     "traceback": [
      "/home/ugovaretto/.jupyternim/n6129aaeen47ccn4c10nb7b1n7cb48c8e45cfcodecells.nim(9, 5) Error: redefinition of &#39;x&#39;; previous declaration here: /home/ugovaretto/.jupyternim/n6129aaeen47ccn4c10nb7b1n7cb48c8e45cfcodecells.nim(7, 5)",
      "Error: redefinition of &#39;x&#39;; previous declaration here: /home/ugovaretto/.jupyternim/n6129aaeen47ccn4c10nb7b1n7cb48c8e45cfcodecells.nim(7, 5)"
     ]
    }
   ],
   "source": [
    "import ./localimp\n",
    "echo localimport()"
   ]
  },
  {
   "cell_type": "markdown",
   "metadata": {},
   "source": [
    "jupyternimpkg/display\n",
    "--------------\n",
    "The module `jupyternimpkg/display` (will) implement utilities to send data back to the kernel for formatted displaying.\n",
    "\n",
    "For example, showing a png:"
   ]
  },
  {
   "cell_type": "code",
   "execution_count": 13,
   "metadata": {},
   "outputs": [
    {
     "output_type": "error",
     "ename": "Compilation Error",
     "evalue": "undeclared identifier: &#39;dkPngFile&#39;",
     "traceback": [
      "/home/ugovaretto/.jupyternim/n6129aaeen47ccn4c10nb7b1n7cb48c8e45cfcodecells.nim(13, 6) Error: undeclared identifier: &#39;dkPngFile&#39;",
      "Error: undeclared identifier: &#39;dkPngFile&#39;"
     ]
    }
   ],
   "source": [
    "import nimPNG, jupyternimpkg/display\n",
    "\n",
    "# TODO: rewrite as a macro so that syntax is\n",
    "# show kind, [w, h]?:\n",
    "#   what\n",
    "# with [w, h] optional and proper dispatching to impls\n",
    "let file = r\"../src/jupyternimspec/logo-64x64.png\"\n",
    "show dkPngFile, [64, 64]:\n",
    "    file"
   ]
  },
  {
   "cell_type": "markdown",
   "metadata": {},
   "source": [
    "Show the tempfile name\n",
    "----------------------\n",
    "Show tempfile name for this cell which happens to be the module name and therefor has a limited charset\n"
   ]
  },
  {
   "cell_type": "code",
   "execution_count": 14,
   "metadata": {},
   "outputs": [
    {
     "output_type": "error",
     "ename": "Compilation Error",
     "evalue": "redefinition of &#39;x&#39;; previous declaration here: /home/ugovaretto/.jupyternim/n6129aaeen47ccn4c10nb7b1n7cb48c8e45cfcodecells.nim(7, 5)",
     "traceback": [
      "/home/ugovaretto/.jupyternim/n6129aaeen47ccn4c10nb7b1n7cb48c8e45cfcodecells.nim(9, 5) Error: redefinition of &#39;x&#39;; previous declaration here: /home/ugovaretto/.jupyternim/n6129aaeen47ccn4c10nb7b1n7cb48c8e45cfcodecells.nim(7, 5)",
      "Error: redefinition of &#39;x&#39;; previous declaration here: /home/ugovaretto/.jupyternim/n6129aaeen47ccn4c10nb7b1n7cb48c8e45cfcodecells.nim(7, 5)"
     ]
    }
   ],
   "source": [
    "template FILE: string = instantiationInfo().filename\n",
    "\n",
    "echo \"Module tempfile: '\" & FILE() & \"'\""
   ]
  },
  {
   "cell_type": "markdown",
   "metadata": {},
   "source": [
    "### Simple procs"
   ]
  },
  {
   "cell_type": "code",
   "execution_count": 9,
   "metadata": {},
   "outputs": [
    {
     "data": {
      "text/plain": [
       "26\n"
      ]
     },
     "execution_count": 9,
     "metadata": {},
     "output_type": "execute_result"
    }
   ],
   "source": [
    "proc fakesquare(x:int):int =\n",
    "    result = x*x+1\n",
    "\n",
    "echo fakesquare(5)"
   ]
  },
  {
   "cell_type": "markdown",
   "metadata": {},
   "source": [
    "### Json parsing"
   ]
  },
  {
   "cell_type": "code",
   "execution_count": 10,
   "metadata": {},
   "outputs": [
    {
     "data": {
      "text/plain": [
       "1\n",
       "[10,\"apples\"]\n",
       "[{\"name\":\"John\",\"age\":30},{\"name\":\"Susan\",\"age\":31}]\n"
      ]
     },
     "execution_count": 10,
     "metadata": {},
     "output_type": "execute_result"
    }
   ],
   "source": [
    "import json\n",
    " \n",
    "var data = parseJson(\"\"\"{ \"foo\": 1, \"bar\": [10, \"apples\"] }\"\"\")\n",
    "echo data[\"foo\"]\n",
    "echo data[\"bar\"]\n",
    " \n",
    "var js = %[%{\"name\": %\"John\", \"age\": %30}, %{\"name\": %\"Susan\", \"age\": %31}]\n",
    "echo js"
   ]
  },
  {
   "cell_type": "markdown",
   "metadata": {},
   "source": [
    "TODO: reimplement: Plotting with pyplot\n",
    "-----------\n",
    "\n",
    "A naive wrapper around a small subset of matplotlib is available."
   ]
  },
  {
   "cell_type": "code",
   "execution_count": 4,
   "metadata": {},
   "outputs": [
    {
     "output_type": "error",
     "ename": "Compilation Error",
     "evalue": "undeclared identifier: &#39;show&#39;",
     "traceback": [
      "/home/ugovaretto/.jupyternim/n6129aaeen47ccn4c10nb7b1n7cb48c8e45cfcodecells.nim(34, 1) Error: undeclared identifier: &#39;show&#39;",
      "Error: undeclared identifier: &#39;show&#39;"
     ]
    }
   ],
   "source": [
    "#>inlineplot\n",
    "import math,sequtils\n",
    "\n",
    "iterator linsp*[T](fm,to,step:T):T =\n",
    "    if fm<to:\n",
    "      var res: T = T(fm)\n",
    "      while res<=to:\n",
    "        yield res\n",
    "        res+=step\n",
    "    elif fm>to:\n",
    "      var res: T = T(fm)\n",
    "      while res>=to:\n",
    "        yield res\n",
    "        res-=step\n",
    "    else:\n",
    "      yield fm\n",
    "    \n",
    "\n",
    "proc linspace* [T](fm,to,step:T):seq[T] = toSeq(linsp(fm, to, step)) # Result and step should be same type, not all 4\n",
    "\n",
    "\n",
    "proc sin (x:openarray[float]):seq[float] =\n",
    "  result = map(x) do (x:float)->float : \n",
    "    sin(x)\n",
    "\n",
    "let xx = linspace(0.0,2*Pi,0.01)\n",
    "\n",
    "show:\n",
    "    plot(xx,sin(xx))\n",
    "    title(r\"Sin(x) for $0\\leq x\\leq 2\\pi$\" )"
   ]
  },
  {
   "cell_type": "markdown",
   "metadata": {},
   "source": [
    "Basic histograms are also supported."
   ]
  },
  {
   "cell_type": "code",
   "execution_count": 12,
   "metadata": {},
   "outputs": [
    {
     "ename": "Compilation Error",
     "evalue": "undeclared identifier: 'random'",
     "output_type": "error",
     "traceback": [
      "Hint: used config file 'C:\\Dev\\nim-git\\config\\nim.cfg' [Conf]",
      "Hint: used config file 'C:\\Dev\\nim-git\\config\\config.nims' [Conf]",
      "Error: undeclared identifier: 'random'"
     ]
    }
   ],
   "source": [
    "#>inlineplot\n",
    "import math, random, sequtils\n",
    "\n",
    "# simulate a standard normal deviate\n",
    "proc normal(): float =\n",
    "  var q, v, u, x, y = 100.0\n",
    "  while (q > 0.27597 and (q > 0.27846 or v * v > -4 * ln(u) * u * u)):\n",
    "    u = random(1.0)\n",
    "    v = 1.7156 * (random(1.0) - 0.5)\n",
    "    x = u - 0.449871\n",
    "    y = abs(v) + 0.386595\n",
    "    q = x * x + y * (0.19600 * y - 0.25472 * x)\n",
    "  return v / u\n",
    "  \n",
    "let samples = newSeqWith(10000, normal())\n",
    "\n",
    "show:\n",
    "    hist(samples, bins=50)\n",
    "    title(r\"$x \\sim N(0, 1)$\" )"
   ]
  }
 ],
 "metadata": {
  "anaconda-cloud": {},
  "kernelspec": {
   "display_name": "Nim",
   "language": "nim",
   "name": "jupyternimspec"
  },
  "language_info": {
   "file_extension": ".nim",
   "mimetype": "text/x-nim",
   "name": "nim",
   "version": "3.8.2-final"
  },
  "nteract": {
   "version": "nteract-on-jupyter@2.1.3"
  }
 },
 "nbformat": 4,
 "nbformat_minor": 4
}